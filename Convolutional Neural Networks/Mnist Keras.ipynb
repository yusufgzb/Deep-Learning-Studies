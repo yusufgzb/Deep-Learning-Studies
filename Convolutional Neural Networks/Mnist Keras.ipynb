{
 "cells": [
  {
   "cell_type": "code",
   "execution_count": 1,
   "metadata": {},
   "outputs": [],
   "source": [
    "import tensorflow as tf\n",
    "from tensorflow import keras\n",
    "from sklearn.model_selection import train_test_split\n",
    "\n",
    "from tensorflow.keras.models import Sequential\n",
    "from tensorflow.keras.layers import Activation,Dense,BatchNormalization,Dropout,Conv2D,MaxPool2D,Flatten\n",
    "from tensorflow.keras import optimizers\n",
    "\n",
    "import matplotlib.pyplot as plt\n",
    "import numpy as np\n",
    "import pandas as pd\n",
    "import seaborn as sns"
   ]
  },
  {
   "cell_type": "code",
   "execution_count": 2,
   "metadata": {},
   "outputs": [],
   "source": [
    "\n",
    "from tensorflow.keras.datasets import mnist\n",
    "\n",
    "(x_train,y_train),(x_test,y_test)=mnist.load_data()#loading data"
   ]
  },
  {
   "cell_type": "code",
   "execution_count": 3,
   "metadata": {},
   "outputs": [],
   "source": [
    "#Normalizasyon\n",
    "x_train=x_train/255.0\n",
    "x_test=x_test/255.0"
   ]
  },
  {
   "cell_type": "code",
   "execution_count": 4,
   "metadata": {},
   "outputs": [
    {
     "data": {
      "text/plain": [
       "((60000, 28, 28), (10000, 28, 28))"
      ]
     },
     "execution_count": 4,
     "metadata": {},
     "output_type": "execute_result"
    }
   ],
   "source": [
    "x_train.shape,x_test.shape"
   ]
  },
  {
   "cell_type": "code",
   "execution_count": 6,
   "metadata": {},
   "outputs": [],
   "source": [
    "#reshape\n",
    "x_train=x_train.reshape(60000,28,28,1)\n",
    "x_test=x_test.reshape(10000,28,28,1)"
   ]
  },
  {
   "cell_type": "code",
   "execution_count": 7,
   "metadata": {},
   "outputs": [],
   "source": [
    "model=Sequential()"
   ]
  },
  {
   "cell_type": "code",
   "execution_count": 8,
   "metadata": {},
   "outputs": [],
   "source": [
    "model.add(Conv2D(filters=32,kernel_size=(3,3),activation=\"relu\",input_shape=(28,28,1)))\n",
    "model.add(Conv2D(filters=32,kernel_size=(3,3),activation=\"relu\"))\n",
    "model.add(MaxPool2D(pool_size=(2,2)))\n",
    "model.add(Dropout(0.4))\n",
    "model.add(Flatten())\n",
    "\n",
    "# ANN\n",
    "\n",
    "model.add(Dense(units=128,activation=\"relu\"))\n",
    "\n",
    "model.add(Dense(units=10,activation=\"softmax\"))\n"
   ]
  },
  {
   "cell_type": "code",
   "execution_count": 9,
   "metadata": {},
   "outputs": [
    {
     "name": "stdout",
     "output_type": "stream",
     "text": [
      "Model: \"sequential\"\n",
      "_________________________________________________________________\n",
      "Layer (type)                 Output Shape              Param #   \n",
      "=================================================================\n",
      "conv2d (Conv2D)              (None, 26, 26, 32)        320       \n",
      "_________________________________________________________________\n",
      "conv2d_1 (Conv2D)            (None, 24, 24, 32)        9248      \n",
      "_________________________________________________________________\n",
      "max_pooling2d (MaxPooling2D) (None, 12, 12, 32)        0         \n",
      "_________________________________________________________________\n",
      "dropout (Dropout)            (None, 12, 12, 32)        0         \n",
      "_________________________________________________________________\n",
      "flatten (Flatten)            (None, 4608)              0         \n",
      "_________________________________________________________________\n",
      "dense (Dense)                (None, 128)               589952    \n",
      "_________________________________________________________________\n",
      "dense_1 (Dense)              (None, 10)                1290      \n",
      "=================================================================\n",
      "Total params: 600,810\n",
      "Trainable params: 600,810\n",
      "Non-trainable params: 0\n",
      "_________________________________________________________________\n"
     ]
    }
   ],
   "source": [
    "model.summary()"
   ]
  },
  {
   "cell_type": "code",
   "execution_count": 10,
   "metadata": {},
   "outputs": [],
   "source": [
    "model.compile(loss=\"sparse_categorical_crossentropy\",optimizer=\"adam\",metrics=\"sparse_categorical_accuracy\")"
   ]
  },
  {
   "cell_type": "code",
   "execution_count": 11,
   "metadata": {},
   "outputs": [
    {
     "name": "stdout",
     "output_type": "stream",
     "text": [
      "Epoch 1/10\n",
      "469/469 [==============================] - 82s 173ms/step - loss: 0.4309 - sparse_categorical_accuracy: 0.8704 - val_loss: 0.0502 - val_sparse_categorical_accuracy: 0.9833\n",
      "Epoch 2/10\n",
      "469/469 [==============================] - 67s 143ms/step - loss: 0.0684 - sparse_categorical_accuracy: 0.9787 - val_loss: 0.0390 - val_sparse_categorical_accuracy: 0.9878\n",
      "Epoch 3/10\n",
      "469/469 [==============================] - 77s 164ms/step - loss: 0.0426 - sparse_categorical_accuracy: 0.9867 - val_loss: 0.0370 - val_sparse_categorical_accuracy: 0.9873\n",
      "Epoch 4/10\n",
      "469/469 [==============================] - 78s 166ms/step - loss: 0.0334 - sparse_categorical_accuracy: 0.9901 - val_loss: 0.0331 - val_sparse_categorical_accuracy: 0.9897\n",
      "Epoch 5/10\n",
      "469/469 [==============================] - 76s 162ms/step - loss: 0.0256 - sparse_categorical_accuracy: 0.9920 - val_loss: 0.0294 - val_sparse_categorical_accuracy: 0.9902\n",
      "Epoch 6/10\n",
      "469/469 [==============================] - 73s 156ms/step - loss: 0.0217 - sparse_categorical_accuracy: 0.9932 - val_loss: 0.0293 - val_sparse_categorical_accuracy: 0.9902\n",
      "Epoch 7/10\n",
      "469/469 [==============================] - 80s 170ms/step - loss: 0.0166 - sparse_categorical_accuracy: 0.9943 - val_loss: 0.0310 - val_sparse_categorical_accuracy: 0.9901\n",
      "Epoch 8/10\n",
      "469/469 [==============================] - 79s 169ms/step - loss: 0.0143 - sparse_categorical_accuracy: 0.9956 - val_loss: 0.0293 - val_sparse_categorical_accuracy: 0.9905\n",
      "Epoch 9/10\n",
      "469/469 [==============================] - 75s 159ms/step - loss: 0.0119 - sparse_categorical_accuracy: 0.9958 - val_loss: 0.0292 - val_sparse_categorical_accuracy: 0.9913\n",
      "Epoch 10/10\n",
      "469/469 [==============================] - 73s 157ms/step - loss: 0.0108 - sparse_categorical_accuracy: 0.9962 - val_loss: 0.0327 - val_sparse_categorical_accuracy: 0.9898\n"
     ]
    }
   ],
   "source": [
    "history=model.fit(x_train,y_train,batch_size=128,epochs=10,validation_data=(x_test,y_test))"
   ]
  },
  {
   "cell_type": "code",
   "execution_count": 12,
   "metadata": {},
   "outputs": [
    {
     "name": "stderr",
     "output_type": "stream",
     "text": [
      "C:\\Users\\yusuf\\anaconda3\\lib\\site-packages\\tensorflow\\python\\keras\\engine\\sequential.py:450: UserWarning: `model.predict_classes()` is deprecated and will be removed after 2021-01-01. Please use instead:* `np.argmax(model.predict(x), axis=-1)`,   if your model does multi-class classification   (e.g. if it uses a `softmax` last-layer activation).* `(model.predict(x) > 0.5).astype(\"int32\")`,   if your model does binary classification   (e.g. if it uses a `sigmoid` last-layer activation).\n",
      "  warnings.warn('`model.predict_classes()` is deprecated and '\n"
     ]
    }
   ],
   "source": [
    "y_pred=model.predict_classes(x_test)"
   ]
  },
  {
   "cell_type": "code",
   "execution_count": 13,
   "metadata": {},
   "outputs": [
    {
     "name": "stdout",
     "output_type": "stream",
     "text": [
      "[[ 973    0    2    1    0    0    2    0    2    0]\n",
      " [   0 1130    0    0    0    1    2    1    1    0]\n",
      " [   0    5 1023    0    1    0    0    3    0    0]\n",
      " [   0    0    1 1002    0    4    0    0    2    1]\n",
      " [   0    0    0    0  970    0    4    0    3    5]\n",
      " [   1    0    0    5    0  885    1    0    0    0]\n",
      " [   3    2    0    1    1    1  948    0    2    0]\n",
      " [   0    2    7    0    0    0    0 1015    1    3]\n",
      " [   3    0    1    1    1    1    0    0  965    2]\n",
      " [   0    2    0    0    4    3    0    2   11  987]]\n"
     ]
    }
   ],
   "source": [
    "from sklearn.metrics import  confusion_matrix,accuracy_score\n",
    "cn=confusion_matrix(y_test,y_pred)\n",
    "print(cn)"
   ]
  },
  {
   "cell_type": "code",
   "execution_count": 14,
   "metadata": {},
   "outputs": [
    {
     "name": "stdout",
     "output_type": "stream",
     "text": [
      "0.9898\n"
     ]
    }
   ],
   "source": [
    "acc_cm=accuracy_score(y_test,y_pred)\n",
    "print(acc_cm)"
   ]
  },
  {
   "cell_type": "code",
   "execution_count": null,
   "metadata": {},
   "outputs": [],
   "source": []
  }
 ],
 "metadata": {
  "kernelspec": {
   "display_name": "Python 3",
   "language": "python",
   "name": "python3"
  },
  "language_info": {
   "codemirror_mode": {
    "name": "ipython",
    "version": 3
   },
   "file_extension": ".py",
   "mimetype": "text/x-python",
   "name": "python",
   "nbconvert_exporter": "python",
   "pygments_lexer": "ipython3",
   "version": "3.8.5"
  }
 },
 "nbformat": 4,
 "nbformat_minor": 4
}
